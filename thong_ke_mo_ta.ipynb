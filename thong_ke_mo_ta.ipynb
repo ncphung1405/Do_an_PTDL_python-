{
  "nbformat": 4,
  "nbformat_minor": 0,
  "metadata": {
    "kernelspec": {
      "display_name": "Python 3",
      "language": "python",
      "name": "python3"
    },
    "language_info": {
      "codemirror_mode": {
        "name": "ipython",
        "version": 3
      },
      "file_extension": ".py",
      "mimetype": "text/x-python",
      "name": "python",
      "nbconvert_exporter": "python",
      "pygments_lexer": "ipython3",
      "version": "3.8.5"
    },
    "colab": {
      "name": "thong_ke_mo_ta.ipynb",
      "provenance": [],
      "include_colab_link": true
    }
  },
  "cells": [
    {
      "cell_type": "markdown",
      "metadata": {
        "id": "view-in-github",
        "colab_type": "text"
      },
      "source": [
        "<a href=\"https://colab.research.google.com/github/ncphung1405/Do_an_PTDL_python-/blob/main/thong_ke_mo_ta.ipynb\" target=\"_parent\"><img src=\"https://colab.research.google.com/assets/colab-badge.svg\" alt=\"Open In Colab\"/></a>"
      ]
    },
    {
      "cell_type": "markdown",
      "metadata": {
        "id": "GE9uVgqvt37l"
      },
      "source": [
        "**ĐỒ ÁN KẾT THÚC HỌC PHẦN**\n",
        "\n",
        "***Thống kê mô tả***"
      ]
    },
    {
      "cell_type": "code",
      "metadata": {
        "colab": {
          "base_uri": "https://localhost:8080/"
        },
        "id": "O811fGUat37v",
        "outputId": "ecd0dc0b-97d2-4c94-f502-eb4fb79d2a6a"
      },
      "source": [
        "import numpy as np\n",
        "import pandas as pd\n",
        "from scipy import stats\n",
        "import seaborn as sns\n",
        "from matplotlib import pyplot as plt\n",
        "import statsmodels.api as sm"
      ],
      "execution_count": null,
      "outputs": [
        {
          "output_type": "stream",
          "text": [
            "/usr/local/lib/python3.7/dist-packages/statsmodels/tools/_testing.py:19: FutureWarning: pandas.util.testing is deprecated. Use the functions in the public API at pandas.testing instead.\n",
            "  import pandas.util.testing as tm\n"
          ],
          "name": "stderr"
        }
      ]
    },
    {
      "cell_type": "code",
      "metadata": {
        "id": "uzX-Iejlt37x"
      },
      "source": [
        "df = pd.read_csv('Inc_Exp_Data.csv')"
      ],
      "execution_count": null,
      "outputs": []
    },
    {
      "cell_type": "code",
      "metadata": {
        "colab": {
          "base_uri": "https://localhost:8080/",
          "height": 534
        },
        "id": "VnA_MotNt37y",
        "outputId": "5072b57a-6ea3-495f-a4c6-d1515ccc0fda"
      },
      "source": [
        "df.sample(15)"
      ],
      "execution_count": null,
      "outputs": [
        {
          "output_type": "execute_result",
          "data": {
            "text/html": [
              "<div>\n",
              "<style scoped>\n",
              "    .dataframe tbody tr th:only-of-type {\n",
              "        vertical-align: middle;\n",
              "    }\n",
              "\n",
              "    .dataframe tbody tr th {\n",
              "        vertical-align: top;\n",
              "    }\n",
              "\n",
              "    .dataframe thead th {\n",
              "        text-align: right;\n",
              "    }\n",
              "</style>\n",
              "<table border=\"1\" class=\"dataframe\">\n",
              "  <thead>\n",
              "    <tr style=\"text-align: right;\">\n",
              "      <th></th>\n",
              "      <th>Mthly_HH_Income</th>\n",
              "      <th>Mthly_HH_Expense</th>\n",
              "      <th>No_of_Fly_Members</th>\n",
              "      <th>Emi_or_Rent_Amt</th>\n",
              "      <th>Annual_HH_Income</th>\n",
              "      <th>Highest_Qualified_Member</th>\n",
              "      <th>No_of_Earning_Members</th>\n",
              "    </tr>\n",
              "  </thead>\n",
              "  <tbody>\n",
              "    <tr>\n",
              "      <th>25</th>\n",
              "      <td>35000</td>\n",
              "      <td>25000</td>\n",
              "      <td>4</td>\n",
              "      <td>0</td>\n",
              "      <td>449400</td>\n",
              "      <td>Professional</td>\n",
              "      <td>2</td>\n",
              "    </tr>\n",
              "    <tr>\n",
              "      <th>48</th>\n",
              "      <td>100000</td>\n",
              "      <td>50000</td>\n",
              "      <td>4</td>\n",
              "      <td>20000</td>\n",
              "      <td>1032000</td>\n",
              "      <td>Professional</td>\n",
              "      <td>2</td>\n",
              "    </tr>\n",
              "    <tr>\n",
              "      <th>2</th>\n",
              "      <td>10000</td>\n",
              "      <td>4500</td>\n",
              "      <td>2</td>\n",
              "      <td>0</td>\n",
              "      <td>112800</td>\n",
              "      <td>Under-Graduate</td>\n",
              "      <td>1</td>\n",
              "    </tr>\n",
              "    <tr>\n",
              "      <th>18</th>\n",
              "      <td>29000</td>\n",
              "      <td>6600</td>\n",
              "      <td>2</td>\n",
              "      <td>2000</td>\n",
              "      <td>348000</td>\n",
              "      <td>Graduate</td>\n",
              "      <td>1</td>\n",
              "    </tr>\n",
              "    <tr>\n",
              "      <th>28</th>\n",
              "      <td>42000</td>\n",
              "      <td>15000</td>\n",
              "      <td>4</td>\n",
              "      <td>0</td>\n",
              "      <td>488880</td>\n",
              "      <td>Graduate</td>\n",
              "      <td>1</td>\n",
              "    </tr>\n",
              "    <tr>\n",
              "      <th>20</th>\n",
              "      <td>30500</td>\n",
              "      <td>25000</td>\n",
              "      <td>5</td>\n",
              "      <td>5000</td>\n",
              "      <td>351360</td>\n",
              "      <td>Under-Graduate</td>\n",
              "      <td>1</td>\n",
              "    </tr>\n",
              "    <tr>\n",
              "      <th>5</th>\n",
              "      <td>14000</td>\n",
              "      <td>8000</td>\n",
              "      <td>2</td>\n",
              "      <td>0</td>\n",
              "      <td>196560</td>\n",
              "      <td>Graduate</td>\n",
              "      <td>1</td>\n",
              "    </tr>\n",
              "    <tr>\n",
              "      <th>29</th>\n",
              "      <td>43000</td>\n",
              "      <td>12000</td>\n",
              "      <td>4</td>\n",
              "      <td>0</td>\n",
              "      <td>619200</td>\n",
              "      <td>Graduate</td>\n",
              "      <td>1</td>\n",
              "    </tr>\n",
              "    <tr>\n",
              "      <th>26</th>\n",
              "      <td>39000</td>\n",
              "      <td>8000</td>\n",
              "      <td>4</td>\n",
              "      <td>0</td>\n",
              "      <td>556920</td>\n",
              "      <td>Under-Graduate</td>\n",
              "      <td>1</td>\n",
              "    </tr>\n",
              "    <tr>\n",
              "      <th>37</th>\n",
              "      <td>50500</td>\n",
              "      <td>20000</td>\n",
              "      <td>3</td>\n",
              "      <td>0</td>\n",
              "      <td>581760</td>\n",
              "      <td>Professional</td>\n",
              "      <td>2</td>\n",
              "    </tr>\n",
              "    <tr>\n",
              "      <th>34</th>\n",
              "      <td>46000</td>\n",
              "      <td>25000</td>\n",
              "      <td>5</td>\n",
              "      <td>3500</td>\n",
              "      <td>596160</td>\n",
              "      <td>Graduate</td>\n",
              "      <td>1</td>\n",
              "    </tr>\n",
              "    <tr>\n",
              "      <th>21</th>\n",
              "      <td>32000</td>\n",
              "      <td>15000</td>\n",
              "      <td>4</td>\n",
              "      <td>0</td>\n",
              "      <td>445440</td>\n",
              "      <td>Professional</td>\n",
              "      <td>1</td>\n",
              "    </tr>\n",
              "    <tr>\n",
              "      <th>47</th>\n",
              "      <td>100000</td>\n",
              "      <td>30000</td>\n",
              "      <td>6</td>\n",
              "      <td>0</td>\n",
              "      <td>1404000</td>\n",
              "      <td>Graduate</td>\n",
              "      <td>3</td>\n",
              "    </tr>\n",
              "    <tr>\n",
              "      <th>24</th>\n",
              "      <td>35000</td>\n",
              "      <td>12000</td>\n",
              "      <td>3</td>\n",
              "      <td>0</td>\n",
              "      <td>466200</td>\n",
              "      <td>Graduate</td>\n",
              "      <td>1</td>\n",
              "    </tr>\n",
              "    <tr>\n",
              "      <th>43</th>\n",
              "      <td>80000</td>\n",
              "      <td>20000</td>\n",
              "      <td>4</td>\n",
              "      <td>0</td>\n",
              "      <td>1075200</td>\n",
              "      <td>Graduate</td>\n",
              "      <td>1</td>\n",
              "    </tr>\n",
              "  </tbody>\n",
              "</table>\n",
              "</div>"
            ],
            "text/plain": [
              "    Mthly_HH_Income  ...  No_of_Earning_Members\n",
              "25            35000  ...                      2\n",
              "48           100000  ...                      2\n",
              "2             10000  ...                      1\n",
              "18            29000  ...                      1\n",
              "28            42000  ...                      1\n",
              "20            30500  ...                      1\n",
              "5             14000  ...                      1\n",
              "29            43000  ...                      1\n",
              "26            39000  ...                      1\n",
              "37            50500  ...                      2\n",
              "34            46000  ...                      1\n",
              "21            32000  ...                      1\n",
              "47           100000  ...                      3\n",
              "24            35000  ...                      1\n",
              "43            80000  ...                      1\n",
              "\n",
              "[15 rows x 7 columns]"
            ]
          },
          "metadata": {
            "tags": []
          },
          "execution_count": 5
        }
      ]
    },
    {
      "cell_type": "markdown",
      "metadata": {
        "id": "nz7ecQ4Qt370"
      },
      "source": [
        "*Kiểu định tính*"
      ]
    },
    {
      "cell_type": "code",
      "metadata": {
        "colab": {
          "base_uri": "https://localhost:8080/"
        },
        "id": "_e3LZZ2Qt370",
        "outputId": "345ae85e-a89b-42d7-aad8-5ec415b4c5e1"
      },
      "source": [
        "quantitative = {}\n",
        "columns_quantitative = ['Mthly_HH_Income', 'Mthly_HH_Expense', 'Emi_or_Rent_Amt', 'Annual_HH_Income']\n",
        "for column in columns_quantitative:\n",
        "    print(column)\n",
        "    describe = df[column].describe()\n",
        "    print(describe)\n",
        "    quantitative[column] = df[column]\n",
        "    print('')"
      ],
      "execution_count": null,
      "outputs": [
        {
          "output_type": "stream",
          "text": [
            "Mthly_HH_Income\n",
            "count        50.000000\n",
            "mean      41558.000000\n",
            "std       26097.908979\n",
            "min        5000.000000\n",
            "25%       23550.000000\n",
            "50%       35000.000000\n",
            "75%       50375.000000\n",
            "max      100000.000000\n",
            "Name: Mthly_HH_Income, dtype: float64\n",
            "\n",
            "Mthly_HH_Expense\n",
            "count       50.000000\n",
            "mean     18818.000000\n",
            "std      12090.216824\n",
            "min       2000.000000\n",
            "25%      10000.000000\n",
            "50%      15500.000000\n",
            "75%      25000.000000\n",
            "max      50000.000000\n",
            "Name: Mthly_HH_Expense, dtype: float64\n",
            "\n",
            "Emi_or_Rent_Amt\n",
            "count       50.000000\n",
            "mean      3060.000000\n",
            "std       6241.434948\n",
            "min          0.000000\n",
            "25%          0.000000\n",
            "50%          0.000000\n",
            "75%       3500.000000\n",
            "max      35000.000000\n",
            "Name: Emi_or_Rent_Amt, dtype: float64\n",
            "\n",
            "Annual_HH_Income\n",
            "count    5.000000e+01\n",
            "mean     4.900190e+05\n",
            "std      3.201358e+05\n",
            "min      6.420000e+04\n",
            "25%      2.587500e+05\n",
            "50%      4.474200e+05\n",
            "75%      5.947200e+05\n",
            "max      1.404000e+06\n",
            "Name: Annual_HH_Income, dtype: float64\n",
            "\n"
          ],
          "name": "stdout"
        }
      ]
    },
    {
      "cell_type": "markdown",
      "metadata": {
        "id": "8DYoJ1iRt371"
      },
      "source": [
        "*Kiểu định tính*"
      ]
    },
    {
      "cell_type": "code",
      "metadata": {
        "id": "2qpvSw1Jt372"
      },
      "source": [
        "qualitative = {}\n",
        "columns_qualitative = ['No_of_Fly_Members', 'Highest_Qualified_Member', 'No_of_Earning_Members']"
      ],
      "execution_count": null,
      "outputs": []
    },
    {
      "cell_type": "code",
      "metadata": {
        "colab": {
          "base_uri": "https://localhost:8080/"
        },
        "id": "Nz1CXeM_t373",
        "outputId": "0f71a1e9-456e-44de-a238-839e99aad725"
      },
      "source": [
        "for column in columns_qualitative:\n",
        "    print(column)\n",
        "    qualitative[column] = df[column]\n",
        "    print('')"
      ],
      "execution_count": null,
      "outputs": [
        {
          "output_type": "stream",
          "text": [
            "No_of_Fly_Members\n",
            "\n",
            "Highest_Qualified_Member\n",
            "\n",
            "No_of_Earning_Members\n",
            "\n"
          ],
          "name": "stdout"
        }
      ]
    },
    {
      "cell_type": "code",
      "metadata": {
        "id": "s1HVrdoht374",
        "outputId": "89b41e40-d3b8-4489-e568-161ac92480e0"
      },
      "source": [
        "df['No_of_Fly_Members'].value_counts()"
      ],
      "execution_count": null,
      "outputs": [
        {
          "output_type": "execute_result",
          "data": {
            "text/plain": [
              "4    15\n",
              "6    10\n",
              "3     9\n",
              "2     8\n",
              "5     5\n",
              "7     2\n",
              "1     1\n",
              "Name: No_of_Fly_Members, dtype: int64"
            ]
          },
          "metadata": {
            "tags": []
          },
          "execution_count": 27
        }
      ]
    },
    {
      "cell_type": "code",
      "metadata": {
        "id": "0IxClCZct375",
        "outputId": "021e2bd2-4e16-456c-84d6-0bb94fed48e6"
      },
      "source": [
        "df['No_of_Earning_Members'].value_counts()"
      ],
      "execution_count": null,
      "outputs": [
        {
          "output_type": "execute_result",
          "data": {
            "text/plain": [
              "1    33\n",
              "2    12\n",
              "3     4\n",
              "4     1\n",
              "Name: No_of_Earning_Members, dtype: int64"
            ]
          },
          "metadata": {
            "tags": []
          },
          "execution_count": 28
        }
      ]
    },
    {
      "cell_type": "code",
      "metadata": {
        "id": "12P8pbwVt376",
        "outputId": "eaed2b31-e12c-4e6c-9385-5f445ecd67f6"
      },
      "source": [
        "df['Highest_Qualified_Member'].describe()"
      ],
      "execution_count": null,
      "outputs": [
        {
          "output_type": "execute_result",
          "data": {
            "text/plain": [
              "count           50\n",
              "unique           5\n",
              "top       Graduate\n",
              "freq            19\n",
              "Name: Highest_Qualified_Member, dtype: object"
            ]
          },
          "metadata": {
            "tags": []
          },
          "execution_count": 29
        }
      ]
    },
    {
      "cell_type": "markdown",
      "metadata": {
        "id": "6STTzCb7t376"
      },
      "source": [
        "**Vẽ Biểu Đồ**"
      ]
    },
    {
      "cell_type": "code",
      "metadata": {
        "id": "201qbt5rt378"
      },
      "source": [
        "data_quantitative = pd.DataFrame(quantitative)"
      ],
      "execution_count": null,
      "outputs": []
    },
    {
      "cell_type": "code",
      "metadata": {
        "id": "zGrUKilct378"
      },
      "source": [
        "data_qualitative = pd.DataFrame(qualitative)"
      ],
      "execution_count": null,
      "outputs": []
    },
    {
      "cell_type": "markdown",
      "metadata": {
        "id": "-BOPeiVYt379"
      },
      "source": [
        "*Đối với kiểu dữ liệu định tính thì sử dụng bar chart nằm ngang*"
      ]
    },
    {
      "cell_type": "code",
      "metadata": {
        "colab": {
          "base_uri": "https://localhost:8080/",
          "height": 851
        },
        "id": "Uwlf7Wdwt379",
        "outputId": "dbbf061d-fb34-436d-c8b3-f2b50c5b54e2"
      },
      "source": [
        "for column in data_qualitative.columns:\n",
        "    p = {}\n",
        "    amount = []\n",
        "    count_data = data_qualitative[column].value_counts()\n",
        "    level = count_data.index\n",
        "    for i in count_data:\n",
        "        amount.append(i)\n",
        "    p = {'level':level, 'amount':amount}\n",
        "    data = pd.DataFrame(p)\n",
        "    plt.title(column)\n",
        "    sns.barplot(y = 'level', x= 'amount', data = data)\n",
        "    plt.show()"
      ],
      "execution_count": null,
      "outputs": [
        {
          "output_type": "display_data",
          "data": {
            "image/png": "[encoded data removed]",
            "text/plain": [
              "<Figure size 432x288 with 1 Axes>"
            ]
          },
          "metadata": {
            "tags": [],
            "needs_background": "light"
          }
        },
        {
          "output_type": "display_data",
          "data": {
            "image/png": "[encoded data removed]",
            "text/plain": [
              "<Figure size 432x288 with 1 Axes>"
            ]
          },
          "metadata": {
            "tags": [],
            "needs_background": "light"
          }
        },
        {
          "output_type": "display_data",
          "data": {
            "image/png": "[encoded data removed]",
            "text/plain": [
              "<Figure size 432x288 with 1 Axes>"
            ]
          },
          "metadata": {
            "tags": [],
            "needs_background": "light"
          }
        }
      ]
    },
    {
      "cell_type": "code",
      "metadata": {
        "id": "nWYwwCd8t37-"
      },
      "source": [
        "data_qualitative_sub = df[['No_of_Fly_Members','No_of_Earning_Members']]"
      ],
      "execution_count": null,
      "outputs": []
    },
    {
      "cell_type": "code",
      "metadata": {
        "colab": {
          "base_uri": "https://localhost:8080/",
          "height": 573
        },
        "id": "ffCcBi3gt37_",
        "outputId": "99f96fd4-a894-41b9-c540-0c85ecf21afd"
      },
      "source": [
        "for column in data_qualitative_sub.columns:\n",
        "    p = {}\n",
        "    amount = []\n",
        "    levels = []\n",
        "    count_data = data_qualitative_sub[column].value_counts()\n",
        "    levels_0 = count_data.index\n",
        "    for level in levels_0:\n",
        "        levels.append(str(level))\n",
        "    for i in count_data:\n",
        "        amount.append(i)\n",
        "    p = {'levels':levels, 'amount':amount}\n",
        "    data = pd.DataFrame(p)\n",
        "    plt.title(column)\n",
        "    sns.barplot(y = 'levels', x = 'amount', data = data)\n",
        "    plt.show()"
      ],
      "execution_count": null,
      "outputs": [
        {
          "output_type": "display_data",
          "data": {
            "image/png": "[encoded data removed]",
            "text/plain": [
              "<Figure size 432x288 with 1 Axes>"
            ]
          },
          "metadata": {
            "tags": [],
            "needs_background": "light"
          }
        },
        {
          "output_type": "display_data",
          "data": {
            "image/png": "[encoded data removed]",
            "text/plain": [
              "<Figure size 432x288 with 1 Axes>"
            ]
          },
          "metadata": {
            "tags": [],
            "needs_background": "light"
          }
        }
      ]
    },
    {
      "cell_type": "markdown",
      "metadata": {
        "id": "7MbGoEK0t38A"
      },
      "source": [
        "*Đối với kiểu dữ liệu định lượng thì vẽ histogram*"
      ]
    },
    {
      "cell_type": "code",
      "metadata": {
        "id": "h8XrxmPwt38B",
        "outputId": "bea623d1-4d21-4774-d5de-3c1d99d52fb4"
      },
      "source": [
        "for column in data_quantitative.columns:\n",
        "    data = data_quantitative[column]\n",
        "    mean = np.mean(data)\n",
        "    # ddof = 1 :: hiệu chỉnh\n",
        "    std = np.std(data,ddof=1)\n",
        "    domain = np.linspace(np.min(data),np.max(data))\n",
        "    plt.plot(domain, stats.norm.pdf(domain, mean, std))\n",
        "    # density = True :: chuẩn hóa dữ liệu vè normal\n",
        "    plt.hist(data, edgecolor='black', density = True)\n",
        "    plt.title(column)\n",
        "    plt.show()"
      ],
      "execution_count": null,
      "outputs": [
        {
          "output_type": "display_data",
          "data": {
            "image/png": "[encoded data removed]",
            "text/plain": [
              "<Figure size 432x288 with 1 Axes>"
            ]
          },
          "metadata": {
            "tags": [],
            "needs_background": "light"
          }
        },
        {
          "output_type": "display_data",
          "data": {
            "image/png": "[encoded data removed]",
            "text/plain": [
              "<Figure size 432x288 with 1 Axes>"
            ]
          },
          "metadata": {
            "tags": [],
            "needs_background": "light"
          }
        },
        {
          "output_type": "display_data",
          "data": {
            "image/png": "[encoded data removed]",
            "text/plain": [
              "<Figure size 432x288 with 1 Axes>"
            ]
          },
          "metadata": {
            "tags": [],
            "needs_background": "light"
          }
        },
        {
          "output_type": "display_data",
          "data": {
            "image/png": "[encoded data removed]",
            "text/plain": [
              "<Figure size 432x288 with 1 Axes>"
            ]
          },
          "metadata": {
            "tags": [],
            "needs_background": "light"
          }
        }
      ]
    }
  ]
}