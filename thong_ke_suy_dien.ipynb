{
  "nbformat": 4,
  "nbformat_minor": 0,
  "metadata": {
    "kernelspec": {
      "display_name": "Python 3",
      "language": "python",
      "name": "python3"
    },
    "language_info": {
      "codemirror_mode": {
        "name": "ipython",
        "version": 3
      },
      "file_extension": ".py",
      "mimetype": "text/x-python",
      "name": "python",
      "nbconvert_exporter": "python",
      "pygments_lexer": "ipython3",
      "version": "3.8.5"
    },
    "colab": {
      "name": " thong_ke_suy_dien.ipynb",
      "provenance": [],
      "include_colab_link": true
    }
  },
  "cells": [
    {
      "cell_type": "markdown",
      "metadata": {
        "id": "view-in-github",
        "colab_type": "text"
      },
      "source": [
        "<a href=\"https://colab.research.google.com/github/ncphung1405/Do_an_PTDL_python-/blob/main/thong_ke_suy_dien.ipynb\" target=\"_parent\"><img src=\"https://colab.research.google.com/assets/colab-badge.svg\" alt=\"Open In Colab\"/></a>"
      ]
    },
    {
      "cell_type": "markdown",
      "metadata": {
        "id": "cUaRR5Zr0Hpr"
      },
      "source": [
        "**ĐỒ ÁN KẾT THÚC HỌC PHẦN**\n",
        "\n",
        "***Thống kê suy diễn***"
      ]
    },
    {
      "cell_type": "code",
      "metadata": {
        "colab": {
          "base_uri": "https://localhost:8080/"
        },
        "id": "9FmFe5ej0Hpy",
        "outputId": "0e5699f2-f293-405c-8247-8b0d6a93579f"
      },
      "source": [
        "import numpy as np\n",
        "import pandas as pd\n",
        "from scipy import stats\n",
        "import seaborn as sns\n",
        "from matplotlib import pyplot as plt\n",
        "import statsmodels.api as sm"
      ],
      "execution_count": null,
      "outputs": [
        {
          "output_type": "stream",
          "text": [
            "/usr/local/lib/python3.7/dist-packages/statsmodels/tools/_testing.py:19: FutureWarning: pandas.util.testing is deprecated. Use the functions in the public API at pandas.testing instead.\n",
            "  import pandas.util.testing as tm\n"
          ],
          "name": "stderr"
        }
      ]
    },
    {
      "cell_type": "code",
      "metadata": {
        "id": "tSgH_6Sq0Hpz"
      },
      "source": [
        "df = pd.read_csv('Diet_R.csv')"
      ],
      "execution_count": null,
      "outputs": []
    },
    {
      "cell_type": "code",
      "metadata": {
        "colab": {
          "base_uri": "https://localhost:8080/",
          "height": 518
        },
        "id": "3Ofs4qzy0Hp0",
        "outputId": "c7e65a9e-f4b9-46cb-dcbd-4a4afda55163"
      },
      "source": [
        "df.sample(15)"
      ],
      "execution_count": null,
      "outputs": [
        {
          "output_type": "execute_result",
          "data": {
            "text/html": [
              "<div>\n",
              "<style scoped>\n",
              "    .dataframe tbody tr th:only-of-type {\n",
              "        vertical-align: middle;\n",
              "    }\n",
              "\n",
              "    .dataframe tbody tr th {\n",
              "        vertical-align: top;\n",
              "    }\n",
              "\n",
              "    .dataframe thead th {\n",
              "        text-align: right;\n",
              "    }\n",
              "</style>\n",
              "<table border=\"1\" class=\"dataframe\">\n",
              "  <thead>\n",
              "    <tr style=\"text-align: right;\">\n",
              "      <th></th>\n",
              "      <th>Person</th>\n",
              "      <th>gender</th>\n",
              "      <th>Age</th>\n",
              "      <th>Height</th>\n",
              "      <th>pre.weight</th>\n",
              "      <th>Diet</th>\n",
              "      <th>weight6weeks</th>\n",
              "    </tr>\n",
              "  </thead>\n",
              "  <tbody>\n",
              "    <tr>\n",
              "      <th>23</th>\n",
              "      <td>34</td>\n",
              "      <td>0</td>\n",
              "      <td>54</td>\n",
              "      <td>173</td>\n",
              "      <td>63</td>\n",
              "      <td>2</td>\n",
              "      <td>59.4</td>\n",
              "    </tr>\n",
              "    <tr>\n",
              "      <th>28</th>\n",
              "      <td>39</td>\n",
              "      <td>0</td>\n",
              "      <td>30</td>\n",
              "      <td>161</td>\n",
              "      <td>76</td>\n",
              "      <td>2</td>\n",
              "      <td>72.7</td>\n",
              "    </tr>\n",
              "    <tr>\n",
              "      <th>64</th>\n",
              "      <td>50</td>\n",
              "      <td>1</td>\n",
              "      <td>39</td>\n",
              "      <td>180</td>\n",
              "      <td>80</td>\n",
              "      <td>2</td>\n",
              "      <td>81.4</td>\n",
              "    </tr>\n",
              "    <tr>\n",
              "      <th>38</th>\n",
              "      <td>60</td>\n",
              "      <td>0</td>\n",
              "      <td>58</td>\n",
              "      <td>141</td>\n",
              "      <td>70</td>\n",
              "      <td>3</td>\n",
              "      <td>63.0</td>\n",
              "    </tr>\n",
              "    <tr>\n",
              "      <th>2</th>\n",
              "      <td>1</td>\n",
              "      <td>0</td>\n",
              "      <td>22</td>\n",
              "      <td>159</td>\n",
              "      <td>58</td>\n",
              "      <td>1</td>\n",
              "      <td>54.2</td>\n",
              "    </tr>\n",
              "    <tr>\n",
              "      <th>43</th>\n",
              "      <td>65</td>\n",
              "      <td>0</td>\n",
              "      <td>48</td>\n",
              "      <td>153</td>\n",
              "      <td>75</td>\n",
              "      <td>3</td>\n",
              "      <td>68.7</td>\n",
              "    </tr>\n",
              "    <tr>\n",
              "      <th>59</th>\n",
              "      <td>45</td>\n",
              "      <td>1</td>\n",
              "      <td>45</td>\n",
              "      <td>160</td>\n",
              "      <td>78</td>\n",
              "      <td>2</td>\n",
              "      <td>72.7</td>\n",
              "    </tr>\n",
              "    <tr>\n",
              "      <th>41</th>\n",
              "      <td>63</td>\n",
              "      <td>0</td>\n",
              "      <td>35</td>\n",
              "      <td>171</td>\n",
              "      <td>72</td>\n",
              "      <td>3</td>\n",
              "      <td>64.4</td>\n",
              "    </tr>\n",
              "    <tr>\n",
              "      <th>30</th>\n",
              "      <td>52</td>\n",
              "      <td>0</td>\n",
              "      <td>51</td>\n",
              "      <td>165</td>\n",
              "      <td>60</td>\n",
              "      <td>3</td>\n",
              "      <td>53.0</td>\n",
              "    </tr>\n",
              "    <tr>\n",
              "      <th>53</th>\n",
              "      <td>23</td>\n",
              "      <td>1</td>\n",
              "      <td>39</td>\n",
              "      <td>166</td>\n",
              "      <td>87</td>\n",
              "      <td>1</td>\n",
              "      <td>81.9</td>\n",
              "    </tr>\n",
              "    <tr>\n",
              "      <th>52</th>\n",
              "      <td>22</td>\n",
              "      <td>1</td>\n",
              "      <td>42</td>\n",
              "      <td>166</td>\n",
              "      <td>85</td>\n",
              "      <td>1</td>\n",
              "      <td>81.5</td>\n",
              "    </tr>\n",
              "    <tr>\n",
              "      <th>4</th>\n",
              "      <td>3</td>\n",
              "      <td>0</td>\n",
              "      <td>55</td>\n",
              "      <td>170</td>\n",
              "      <td>64</td>\n",
              "      <td>1</td>\n",
              "      <td>63.3</td>\n",
              "    </tr>\n",
              "    <tr>\n",
              "      <th>44</th>\n",
              "      <td>66</td>\n",
              "      <td>0</td>\n",
              "      <td>41</td>\n",
              "      <td>157</td>\n",
              "      <td>76</td>\n",
              "      <td>3</td>\n",
              "      <td>71.0</td>\n",
              "    </tr>\n",
              "    <tr>\n",
              "      <th>27</th>\n",
              "      <td>38</td>\n",
              "      <td>0</td>\n",
              "      <td>37</td>\n",
              "      <td>167</td>\n",
              "      <td>68</td>\n",
              "      <td>2</td>\n",
              "      <td>63.3</td>\n",
              "    </tr>\n",
              "    <tr>\n",
              "      <th>20</th>\n",
              "      <td>31</td>\n",
              "      <td>0</td>\n",
              "      <td>20</td>\n",
              "      <td>169</td>\n",
              "      <td>62</td>\n",
              "      <td>2</td>\n",
              "      <td>55.0</td>\n",
              "    </tr>\n",
              "  </tbody>\n",
              "</table>\n",
              "</div>"
            ],
            "text/plain": [
              "    Person gender  Age  Height  pre.weight  Diet  weight6weeks\n",
              "23      34      0   54     173          63     2          59.4\n",
              "28      39      0   30     161          76     2          72.7\n",
              "64      50      1   39     180          80     2          81.4\n",
              "38      60      0   58     141          70     3          63.0\n",
              "2        1      0   22     159          58     1          54.2\n",
              "43      65      0   48     153          75     3          68.7\n",
              "59      45      1   45     160          78     2          72.7\n",
              "41      63      0   35     171          72     3          64.4\n",
              "30      52      0   51     165          60     3          53.0\n",
              "53      23      1   39     166          87     1          81.9\n",
              "52      22      1   42     166          85     1          81.5\n",
              "4        3      0   55     170          64     1          63.3\n",
              "44      66      0   41     157          76     3          71.0\n",
              "27      38      0   37     167          68     2          63.3\n",
              "20      31      0   20     169          62     2          55.0"
            ]
          },
          "metadata": {
            "tags": []
          },
          "execution_count": 4
        }
      ]
    },
    {
      "cell_type": "markdown",
      "metadata": {
        "id": "5JlS8bGo0Hp1"
      },
      "source": [
        "Tính cân nặng giảm"
      ]
    },
    {
      "cell_type": "code",
      "metadata": {
        "id": "urGPDbqJ0Hp2"
      },
      "source": [
        "df['losingweight'] = df['pre.weight'] - df['weight6weeks']"
      ],
      "execution_count": null,
      "outputs": []
    },
    {
      "cell_type": "code",
      "metadata": {
        "colab": {
          "base_uri": "https://localhost:8080/",
          "height": 422
        },
        "id": "-Hci6eHh1gpB",
        "outputId": "0c3eeb32-181e-4a3a-b742-40bbdfa214d6"
      },
      "source": [
        "df"
      ],
      "execution_count": null,
      "outputs": [
        {
          "output_type": "execute_result",
          "data": {
            "text/html": [
              "<div>\n",
              "<style scoped>\n",
              "    .dataframe tbody tr th:only-of-type {\n",
              "        vertical-align: middle;\n",
              "    }\n",
              "\n",
              "    .dataframe tbody tr th {\n",
              "        vertical-align: top;\n",
              "    }\n",
              "\n",
              "    .dataframe thead th {\n",
              "        text-align: right;\n",
              "    }\n",
              "</style>\n",
              "<table border=\"1\" class=\"dataframe\">\n",
              "  <thead>\n",
              "    <tr style=\"text-align: right;\">\n",
              "      <th></th>\n",
              "      <th>Person</th>\n",
              "      <th>gender</th>\n",
              "      <th>Age</th>\n",
              "      <th>Height</th>\n",
              "      <th>pre.weight</th>\n",
              "      <th>Diet</th>\n",
              "      <th>weight6weeks</th>\n",
              "      <th>losingweight</th>\n",
              "    </tr>\n",
              "  </thead>\n",
              "  <tbody>\n",
              "    <tr>\n",
              "      <th>0</th>\n",
              "      <td>25</td>\n",
              "      <td></td>\n",
              "      <td>41</td>\n",
              "      <td>171</td>\n",
              "      <td>60</td>\n",
              "      <td>2</td>\n",
              "      <td>60.0</td>\n",
              "      <td>0.0</td>\n",
              "    </tr>\n",
              "    <tr>\n",
              "      <th>1</th>\n",
              "      <td>26</td>\n",
              "      <td></td>\n",
              "      <td>32</td>\n",
              "      <td>174</td>\n",
              "      <td>103</td>\n",
              "      <td>2</td>\n",
              "      <td>103.0</td>\n",
              "      <td>0.0</td>\n",
              "    </tr>\n",
              "    <tr>\n",
              "      <th>2</th>\n",
              "      <td>1</td>\n",
              "      <td>0</td>\n",
              "      <td>22</td>\n",
              "      <td>159</td>\n",
              "      <td>58</td>\n",
              "      <td>1</td>\n",
              "      <td>54.2</td>\n",
              "      <td>3.8</td>\n",
              "    </tr>\n",
              "    <tr>\n",
              "      <th>3</th>\n",
              "      <td>2</td>\n",
              "      <td>0</td>\n",
              "      <td>46</td>\n",
              "      <td>192</td>\n",
              "      <td>60</td>\n",
              "      <td>1</td>\n",
              "      <td>54.0</td>\n",
              "      <td>6.0</td>\n",
              "    </tr>\n",
              "    <tr>\n",
              "      <th>4</th>\n",
              "      <td>3</td>\n",
              "      <td>0</td>\n",
              "      <td>55</td>\n",
              "      <td>170</td>\n",
              "      <td>64</td>\n",
              "      <td>1</td>\n",
              "      <td>63.3</td>\n",
              "      <td>0.7</td>\n",
              "    </tr>\n",
              "    <tr>\n",
              "      <th>...</th>\n",
              "      <td>...</td>\n",
              "      <td>...</td>\n",
              "      <td>...</td>\n",
              "      <td>...</td>\n",
              "      <td>...</td>\n",
              "      <td>...</td>\n",
              "      <td>...</td>\n",
              "      <td>...</td>\n",
              "    </tr>\n",
              "    <tr>\n",
              "      <th>73</th>\n",
              "      <td>74</td>\n",
              "      <td>1</td>\n",
              "      <td>35</td>\n",
              "      <td>183</td>\n",
              "      <td>83</td>\n",
              "      <td>3</td>\n",
              "      <td>80.2</td>\n",
              "      <td>2.8</td>\n",
              "    </tr>\n",
              "    <tr>\n",
              "      <th>74</th>\n",
              "      <td>75</td>\n",
              "      <td>1</td>\n",
              "      <td>49</td>\n",
              "      <td>177</td>\n",
              "      <td>84</td>\n",
              "      <td>3</td>\n",
              "      <td>79.9</td>\n",
              "      <td>4.1</td>\n",
              "    </tr>\n",
              "    <tr>\n",
              "      <th>75</th>\n",
              "      <td>76</td>\n",
              "      <td>1</td>\n",
              "      <td>28</td>\n",
              "      <td>164</td>\n",
              "      <td>85</td>\n",
              "      <td>3</td>\n",
              "      <td>79.7</td>\n",
              "      <td>5.3</td>\n",
              "    </tr>\n",
              "    <tr>\n",
              "      <th>76</th>\n",
              "      <td>77</td>\n",
              "      <td>1</td>\n",
              "      <td>40</td>\n",
              "      <td>167</td>\n",
              "      <td>87</td>\n",
              "      <td>3</td>\n",
              "      <td>77.8</td>\n",
              "      <td>9.2</td>\n",
              "    </tr>\n",
              "    <tr>\n",
              "      <th>77</th>\n",
              "      <td>78</td>\n",
              "      <td>1</td>\n",
              "      <td>51</td>\n",
              "      <td>175</td>\n",
              "      <td>88</td>\n",
              "      <td>3</td>\n",
              "      <td>81.9</td>\n",
              "      <td>6.1</td>\n",
              "    </tr>\n",
              "  </tbody>\n",
              "</table>\n",
              "<p>78 rows × 8 columns</p>\n",
              "</div>"
            ],
            "text/plain": [
              "    Person gender  Age  Height  pre.weight  Diet  weight6weeks  losingweight\n",
              "0       25          41     171          60     2          60.0           0.0\n",
              "1       26          32     174         103     2         103.0           0.0\n",
              "2        1      0   22     159          58     1          54.2           3.8\n",
              "3        2      0   46     192          60     1          54.0           6.0\n",
              "4        3      0   55     170          64     1          63.3           0.7\n",
              "..     ...    ...  ...     ...         ...   ...           ...           ...\n",
              "73      74      1   35     183          83     3          80.2           2.8\n",
              "74      75      1   49     177          84     3          79.9           4.1\n",
              "75      76      1   28     164          85     3          79.7           5.3\n",
              "76      77      1   40     167          87     3          77.8           9.2\n",
              "77      78      1   51     175          88     3          81.9           6.1\n",
              "\n",
              "[78 rows x 8 columns]"
            ]
          },
          "metadata": {
            "tags": []
          },
          "execution_count": 6
        }
      ]
    },
    {
      "cell_type": "code",
      "metadata": {
        "id": "UZ-MHvQB0Hp2"
      },
      "source": [
        "df_diet_losing = df[['Diet','losingweight']].copy()"
      ],
      "execution_count": null,
      "outputs": []
    },
    {
      "cell_type": "code",
      "metadata": {
        "colab": {
          "base_uri": "https://localhost:8080/",
          "height": 422
        },
        "id": "JcT3QjT90Hp3",
        "outputId": "b217b2ba-5add-4319-fc25-7fd1a87b5675"
      },
      "source": [
        "df_diet_losing"
      ],
      "execution_count": null,
      "outputs": [
        {
          "output_type": "execute_result",
          "data": {
            "text/html": [
              "<div>\n",
              "<style scoped>\n",
              "    .dataframe tbody tr th:only-of-type {\n",
              "        vertical-align: middle;\n",
              "    }\n",
              "\n",
              "    .dataframe tbody tr th {\n",
              "        vertical-align: top;\n",
              "    }\n",
              "\n",
              "    .dataframe thead th {\n",
              "        text-align: right;\n",
              "    }\n",
              "</style>\n",
              "<table border=\"1\" class=\"dataframe\">\n",
              "  <thead>\n",
              "    <tr style=\"text-align: right;\">\n",
              "      <th></th>\n",
              "      <th>Diet</th>\n",
              "      <th>losingweight</th>\n",
              "    </tr>\n",
              "  </thead>\n",
              "  <tbody>\n",
              "    <tr>\n",
              "      <th>0</th>\n",
              "      <td>2</td>\n",
              "      <td>0.0</td>\n",
              "    </tr>\n",
              "    <tr>\n",
              "      <th>1</th>\n",
              "      <td>2</td>\n",
              "      <td>0.0</td>\n",
              "    </tr>\n",
              "    <tr>\n",
              "      <th>2</th>\n",
              "      <td>1</td>\n",
              "      <td>3.8</td>\n",
              "    </tr>\n",
              "    <tr>\n",
              "      <th>3</th>\n",
              "      <td>1</td>\n",
              "      <td>6.0</td>\n",
              "    </tr>\n",
              "    <tr>\n",
              "      <th>4</th>\n",
              "      <td>1</td>\n",
              "      <td>0.7</td>\n",
              "    </tr>\n",
              "    <tr>\n",
              "      <th>...</th>\n",
              "      <td>...</td>\n",
              "      <td>...</td>\n",
              "    </tr>\n",
              "    <tr>\n",
              "      <th>73</th>\n",
              "      <td>3</td>\n",
              "      <td>2.8</td>\n",
              "    </tr>\n",
              "    <tr>\n",
              "      <th>74</th>\n",
              "      <td>3</td>\n",
              "      <td>4.1</td>\n",
              "    </tr>\n",
              "    <tr>\n",
              "      <th>75</th>\n",
              "      <td>3</td>\n",
              "      <td>5.3</td>\n",
              "    </tr>\n",
              "    <tr>\n",
              "      <th>76</th>\n",
              "      <td>3</td>\n",
              "      <td>9.2</td>\n",
              "    </tr>\n",
              "    <tr>\n",
              "      <th>77</th>\n",
              "      <td>3</td>\n",
              "      <td>6.1</td>\n",
              "    </tr>\n",
              "  </tbody>\n",
              "</table>\n",
              "<p>78 rows × 2 columns</p>\n",
              "</div>"
            ],
            "text/plain": [
              "    Diet  losingweight\n",
              "0      2           0.0\n",
              "1      2           0.0\n",
              "2      1           3.8\n",
              "3      1           6.0\n",
              "4      1           0.7\n",
              "..   ...           ...\n",
              "73     3           2.8\n",
              "74     3           4.1\n",
              "75     3           5.3\n",
              "76     3           9.2\n",
              "77     3           6.1\n",
              "\n",
              "[78 rows x 2 columns]"
            ]
          },
          "metadata": {
            "tags": []
          },
          "execution_count": 9
        }
      ]
    },
    {
      "cell_type": "markdown",
      "metadata": {
        "id": "Jd2NS3_Z0Hp4"
      },
      "source": [
        "**SỰ KHÁC NHAU VỀ HIỆU QUẢ CỦA CÁC PHƯƠNG PHÁP GIẢM CÂN**"
      ]
    },
    {
      "cell_type": "markdown",
      "metadata": {
        "id": "-5dRtZrS0Hp4"
      },
      "source": [
        "**Phát biểu giải thuyết thống kê**\n",
        "- **H0**: không có sự khác biệt về hiệu quả giảm cân giữa 3 phương pháp\n",
        "- **H1**: có ít nhất hai kiểu phương pháp khác nhau về hiệu quả giảm cân"
      ]
    },
    {
      "cell_type": "code",
      "metadata": {
        "colab": {
          "base_uri": "https://localhost:8080/",
          "height": 279
        },
        "id": "RUE9aUu80Hp5",
        "outputId": "bb832efd-74b2-4e6e-846d-2d98620374ea"
      },
      "source": [
        "sns.boxplot(x='Diet',y='losingweight',data = df_diet_losing, color='yellow')\n",
        "sns.swarmplot(x='Diet',y='losingweight', data = df_diet_losing, color='red')\n",
        "plt.show()"
      ],
      "execution_count": null,
      "outputs": [
        {
          "output_type": "display_data",
          "data": {
            "image/png": "[encoded data removed]",
            "text/plain": [
              "<Figure size 432x288 with 1 Axes>"
            ]
          },
          "metadata": {
            "tags": [],
            "needs_background": "light"
          }
        }
      ]
    },
    {
      "cell_type": "code",
      "metadata": {
        "id": "_YMHP_LH0Hp6"
      },
      "source": [
        "from statsmodels.formula.api import ols\n",
        "import statsmodels.api as sm"
      ],
      "execution_count": null,
      "outputs": []
    },
    {
      "cell_type": "code",
      "metadata": {
        "id": "dKwaMglm0Hp7"
      },
      "source": [
        "model = ols('losingweight ~ C(Diet)', data=df_diet_losing).fit()\n",
        "anova_table = sm.stats.anova_lm(model, typ=2)"
      ],
      "execution_count": null,
      "outputs": []
    },
    {
      "cell_type": "code",
      "metadata": {
        "colab": {
          "base_uri": "https://localhost:8080/",
          "height": 112
        },
        "id": "9zWLIVlI0Hp7",
        "outputId": "848cdc70-3e2a-48e3-8ebd-7eb44f005369"
      },
      "source": [
        "anova_table"
      ],
      "execution_count": null,
      "outputs": [
        {
          "output_type": "execute_result",
          "data": {
            "text/html": [
              "<div>\n",
              "<style scoped>\n",
              "    .dataframe tbody tr th:only-of-type {\n",
              "        vertical-align: middle;\n",
              "    }\n",
              "\n",
              "    .dataframe tbody tr th {\n",
              "        vertical-align: top;\n",
              "    }\n",
              "\n",
              "    .dataframe thead th {\n",
              "        text-align: right;\n",
              "    }\n",
              "</style>\n",
              "<table border=\"1\" class=\"dataframe\">\n",
              "  <thead>\n",
              "    <tr style=\"text-align: right;\">\n",
              "      <th></th>\n",
              "      <th>sum_sq</th>\n",
              "      <th>df</th>\n",
              "      <th>F</th>\n",
              "      <th>PR(&gt;F)</th>\n",
              "    </tr>\n",
              "  </thead>\n",
              "  <tbody>\n",
              "    <tr>\n",
              "      <th>C(Diet)</th>\n",
              "      <td>71.093689</td>\n",
              "      <td>2.0</td>\n",
              "      <td>6.197447</td>\n",
              "      <td>0.003229</td>\n",
              "    </tr>\n",
              "    <tr>\n",
              "      <th>Residual</th>\n",
              "      <td>430.179259</td>\n",
              "      <td>75.0</td>\n",
              "      <td>NaN</td>\n",
              "      <td>NaN</td>\n",
              "    </tr>\n",
              "  </tbody>\n",
              "</table>\n",
              "</div>"
            ],
            "text/plain": [
              "              sum_sq    df         F    PR(>F)\n",
              "C(Diet)    71.093689   2.0  6.197447  0.003229\n",
              "Residual  430.179259  75.0       NaN       NaN"
            ]
          },
          "metadata": {
            "tags": []
          },
          "execution_count": 14
        }
      ]
    },
    {
      "cell_type": "code",
      "metadata": {
        "id": "8Ag8Q_u90Hp8"
      },
      "source": [
        "def results(p, alpha=0.05):\n",
        "    cols=['f_score', 'p_value', 'KetLuan']\n",
        "    if p['p_value'] < alpha:\n",
        "        p['KetLuan'] = f\"Chấp nhận H1 với mức ý nghĩa {alpha}\"\n",
        "    if p['p_value'] >= alpha:\n",
        "        p['KetLuan'] = f\"Chấp nhận H0 với mức ý nghĩa {alpha}\"\n",
        "    df = pd.DataFrame(p, index=[''])\n",
        "    return df[cols]"
      ],
      "execution_count": null,
      "outputs": []
    },
    {
      "cell_type": "code",
      "metadata": {
        "colab": {
          "base_uri": "https://localhost:8080/",
          "height": 81
        },
        "id": "91bOftEn0Hp9",
        "outputId": "5975bff9-acc2-4e9a-b489-68321d017306"
      },
      "source": [
        "p = {}\n",
        "p['f_score'] = anova_table['F'][0]\n",
        "p['p_value'] = anova_table['PR(>F)'][0]\n",
        "results(p)"
      ],
      "execution_count": null,
      "outputs": [
        {
          "output_type": "execute_result",
          "data": {
            "text/html": [
              "<div>\n",
              "<style scoped>\n",
              "    .dataframe tbody tr th:only-of-type {\n",
              "        vertical-align: middle;\n",
              "    }\n",
              "\n",
              "    .dataframe tbody tr th {\n",
              "        vertical-align: top;\n",
              "    }\n",
              "\n",
              "    .dataframe thead th {\n",
              "        text-align: right;\n",
              "    }\n",
              "</style>\n",
              "<table border=\"1\" class=\"dataframe\">\n",
              "  <thead>\n",
              "    <tr style=\"text-align: right;\">\n",
              "      <th></th>\n",
              "      <th>f_score</th>\n",
              "      <th>p_value</th>\n",
              "      <th>KetLuan</th>\n",
              "    </tr>\n",
              "  </thead>\n",
              "  <tbody>\n",
              "    <tr>\n",
              "      <th></th>\n",
              "      <td>6.197447</td>\n",
              "      <td>0.003229</td>\n",
              "      <td>Chấp nhận H1 với mức ý nghĩa 0.05</td>\n",
              "    </tr>\n",
              "  </tbody>\n",
              "</table>\n",
              "</div>"
            ],
            "text/plain": [
              "   f_score   p_value                            KetLuan\n",
              "  6.197447  0.003229  Chấp nhận H1 với mức ý nghĩa 0.05"
            ]
          },
          "metadata": {
            "tags": []
          },
          "execution_count": 17
        }
      ]
    },
    {
      "cell_type": "markdown",
      "metadata": {
        "id": "bDIlSgQj0Hp-"
      },
      "source": [
        "**Kiểm tra hậu nghiệm**"
      ]
    },
    {
      "cell_type": "code",
      "metadata": {
        "id": "9j374B0t0Hp_"
      },
      "source": [
        "from statsmodels.stats.multicomp import pairwise_tukeyhsd"
      ],
      "execution_count": null,
      "outputs": []
    },
    {
      "cell_type": "code",
      "metadata": {
        "id": "foDWAkp_0Hp_"
      },
      "source": [
        "tukey = pairwise_tukeyhsd(endog=df_diet_losing['losingweight'],\n",
        "                         groups=df_diet_losing['Diet'],\n",
        "                         alpha=0.05)"
      ],
      "execution_count": null,
      "outputs": []
    },
    {
      "cell_type": "code",
      "metadata": {
        "colab": {
          "base_uri": "https://localhost:8080/",
          "height": 137
        },
        "id": "VbOXbqTA0HqA",
        "outputId": "9cc50c8a-88fa-4bf7-e373-a8cc0d41548f"
      },
      "source": [
        "tukey.summary()"
      ],
      "execution_count": null,
      "outputs": [
        {
          "output_type": "execute_result",
          "data": {
            "text/html": [
              "<table class=\"simpletable\">\n",
              "<caption>Multiple Comparison of Means - Tukey HSD, FWER=0.05</caption>\n",
              "<tr>\n",
              "  <th>group1</th> <th>group2</th> <th>meandiff</th>  <th>p-adj</th>  <th>lower</th>   <th>upper</th> <th>reject</th>\n",
              "</tr>\n",
              "<tr>\n",
              "     <td>1</td>      <td>2</td>    <td>-0.2741</td>   <td>0.9</td>  <td>-1.8806</td> <td>1.3325</td>  <td>False</td>\n",
              "</tr>\n",
              "<tr>\n",
              "     <td>1</td>      <td>3</td>    <td>1.8481</td>  <td>0.0201</td> <td>0.2416</td>  <td>3.4547</td>  <td>True</td> \n",
              "</tr>\n",
              "<tr>\n",
              "     <td>2</td>      <td>3</td>    <td>2.1222</td>  <td>0.0048</td> <td>0.5636</td>  <td>3.6808</td>  <td>True</td> \n",
              "</tr>\n",
              "</table>"
            ],
            "text/plain": [
              "<class 'statsmodels.iolib.table.SimpleTable'>"
            ]
          },
          "metadata": {
            "tags": []
          },
          "execution_count": 20
        }
      ]
    },
    {
      "cell_type": "markdown",
      "metadata": {
        "id": "FzMU-nJN0HqA"
      },
      "source": [
        "**Kiểm tra các điều kiện cho kiểm định Anova**"
      ]
    },
    {
      "cell_type": "code",
      "metadata": {
        "colab": {
          "base_uri": "https://localhost:8080/",
          "height": 279
        },
        "id": "dBi0ZyPq0HqB",
        "outputId": "8c5d0429-ead6-4945-e860-bc19c6869bc0"
      },
      "source": [
        "fig, ax = plt.subplots(1,2)\n",
        "sm.qqplot(model.resid,line='s', ax=ax[0])\n",
        "plt.xlabel(\"Theoretical Quantiles\")\n",
        "plt.ylabel(\"Sample Residuals\")\n",
        "\n",
        "plt.hist(model.resid, bins='auto', histtype='bar', ec='k')\n",
        "plt.xlabel('Residuals')\n",
        "plt.ylabel('Frequency')\n",
        "plt.show()"
      ],
      "execution_count": null,
      "outputs": [
        {
          "output_type": "display_data",
          "data": {
            "image/png": "[encoded data removed]",
            "text/plain": [
              "<Figure size 432x288 with 2 Axes>"
            ]
          },
          "metadata": {
            "tags": [],
            "needs_background": "light"
          }
        }
      ]
    },
    {
      "cell_type": "code",
      "metadata": {
        "id": "ODSmbGWJ0HqB"
      },
      "source": [
        "p_v = stats.shapiro(model.resid)[1]"
      ],
      "execution_count": null,
      "outputs": []
    },
    {
      "cell_type": "markdown",
      "metadata": {
        "id": "Fa_la4t50HqC"
      },
      "source": [
        "**Kiểm tra sự phân phối chuẩn**"
      ]
    },
    {
      "cell_type": "code",
      "metadata": {
        "colab": {
          "base_uri": "https://localhost:8080/"
        },
        "id": "AK-wUWHD0HqC",
        "outputId": "b41082d1-f869-48c2-92f1-4efad253baa9"
      },
      "source": [
        "print('''Phát biểu giả thiết thống kê:\n",
        "    H0: Mẫu tuân theo phân phối chuẩn\n",
        "    H1: Mẫu khống tuân theo phân phối chuẩn''')\n",
        "if p_v > 0.05:\n",
        "    print(f'Không có bằng chứng thống kê để bác bỏ giả thiết H0. Điều này ngụ ý Mẫu tuân theo phân phối chuẩn')\n",
        "else:\n",
        "    print(f'Có bằng chứng thống kê để bác bỏ giả thiết H0. Điều này ngụ ý Mẫu không tuân theo phân phối chuẩn (H1)')"
      ],
      "execution_count": null,
      "outputs": [
        {
          "output_type": "stream",
          "text": [
            "Phát biểu giả thiết thống kê:\n",
            "    H0: Mẫu tuân theo phân phối chuẩn\n",
            "    H1: Mẫu khống tuân theo phân phối chuẩn\n",
            "Không có bằng chứng thống kê để bác bỏ giả thiết H0. Điều này ngụ ý Mẫu tuân theo phân phối chuẩn\n"
          ],
          "name": "stdout"
        }
      ]
    },
    {
      "cell_type": "code",
      "metadata": {
        "id": "7nZsN-Mx0HqD"
      },
      "source": [
        "df_gen_losingweight = df[['gender','losingweight']].copy()"
      ],
      "execution_count": null,
      "outputs": []
    },
    {
      "cell_type": "code",
      "metadata": {
        "id": "XN__UlU50HqD"
      },
      "source": [
        "df_gen_losingweight = df_gen_losingweight.replace(r'^\\s*$', np.nan, regex=True)"
      ],
      "execution_count": null,
      "outputs": []
    },
    {
      "cell_type": "code",
      "metadata": {
        "id": "D6YpSUFh0HqE"
      },
      "source": [
        "df_gen_losingweight = df_gen_losingweight.dropna()"
      ],
      "execution_count": null,
      "outputs": []
    },
    {
      "cell_type": "code",
      "metadata": {
        "colab": {
          "base_uri": "https://localhost:8080/",
          "height": 422
        },
        "id": "EPE2wNXw0HqE",
        "outputId": "cbd3e2c5-6cc4-4718-b1d6-5affc149c47a"
      },
      "source": [
        "df_gen_losingweight"
      ],
      "execution_count": null,
      "outputs": [
        {
          "output_type": "execute_result",
          "data": {
            "text/html": [
              "<div>\n",
              "<style scoped>\n",
              "    .dataframe tbody tr th:only-of-type {\n",
              "        vertical-align: middle;\n",
              "    }\n",
              "\n",
              "    .dataframe tbody tr th {\n",
              "        vertical-align: top;\n",
              "    }\n",
              "\n",
              "    .dataframe thead th {\n",
              "        text-align: right;\n",
              "    }\n",
              "</style>\n",
              "<table border=\"1\" class=\"dataframe\">\n",
              "  <thead>\n",
              "    <tr style=\"text-align: right;\">\n",
              "      <th></th>\n",
              "      <th>gender</th>\n",
              "      <th>losingweight</th>\n",
              "    </tr>\n",
              "  </thead>\n",
              "  <tbody>\n",
              "    <tr>\n",
              "      <th>2</th>\n",
              "      <td>0</td>\n",
              "      <td>3.8</td>\n",
              "    </tr>\n",
              "    <tr>\n",
              "      <th>3</th>\n",
              "      <td>0</td>\n",
              "      <td>6.0</td>\n",
              "    </tr>\n",
              "    <tr>\n",
              "      <th>4</th>\n",
              "      <td>0</td>\n",
              "      <td>0.7</td>\n",
              "    </tr>\n",
              "    <tr>\n",
              "      <th>5</th>\n",
              "      <td>0</td>\n",
              "      <td>2.9</td>\n",
              "    </tr>\n",
              "    <tr>\n",
              "      <th>6</th>\n",
              "      <td>0</td>\n",
              "      <td>2.8</td>\n",
              "    </tr>\n",
              "    <tr>\n",
              "      <th>...</th>\n",
              "      <td>...</td>\n",
              "      <td>...</td>\n",
              "    </tr>\n",
              "    <tr>\n",
              "      <th>73</th>\n",
              "      <td>1</td>\n",
              "      <td>2.8</td>\n",
              "    </tr>\n",
              "    <tr>\n",
              "      <th>74</th>\n",
              "      <td>1</td>\n",
              "      <td>4.1</td>\n",
              "    </tr>\n",
              "    <tr>\n",
              "      <th>75</th>\n",
              "      <td>1</td>\n",
              "      <td>5.3</td>\n",
              "    </tr>\n",
              "    <tr>\n",
              "      <th>76</th>\n",
              "      <td>1</td>\n",
              "      <td>9.2</td>\n",
              "    </tr>\n",
              "    <tr>\n",
              "      <th>77</th>\n",
              "      <td>1</td>\n",
              "      <td>6.1</td>\n",
              "    </tr>\n",
              "  </tbody>\n",
              "</table>\n",
              "<p>76 rows × 2 columns</p>\n",
              "</div>"
            ],
            "text/plain": [
              "   gender  losingweight\n",
              "2       0           3.8\n",
              "3       0           6.0\n",
              "4       0           0.7\n",
              "5       0           2.9\n",
              "6       0           2.8\n",
              "..    ...           ...\n",
              "73      1           2.8\n",
              "74      1           4.1\n",
              "75      1           5.3\n",
              "76      1           9.2\n",
              "77      1           6.1\n",
              "\n",
              "[76 rows x 2 columns]"
            ]
          },
          "metadata": {
            "tags": []
          },
          "execution_count": 27
        }
      ]
    },
    {
      "cell_type": "markdown",
      "metadata": {
        "id": "p69PB9DX0HqF"
      },
      "source": [
        "**SỰ KHÁC NHAU VỀ HIỆU QUẢ GIẢM CÂN VỚI CÁC GIỚI TÍNH KHÁC NHAU**"
      ]
    },
    {
      "cell_type": "markdown",
      "metadata": {
        "id": "CwSM3NGM0HqF"
      },
      "source": [
        "**Phát biểu giải thuyết thống kê**\n",
        "- **H0**: không có sự khác biệt về hiệu quả giảm cân đối với các giới tính khác nhau\n",
        "- **H1**: Các giới khác nhau về hiệu quả giảm cân"
      ]
    },
    {
      "cell_type": "code",
      "metadata": {
        "colab": {
          "base_uri": "https://localhost:8080/",
          "height": 279
        },
        "id": "RT4LCAWU0HqG",
        "outputId": "9b1b8459-e57f-4f0e-9de6-e6782416bf92"
      },
      "source": [
        "sns.boxplot(x='gender',y='losingweight',data = df_gen_losingweight, color='yellow')\n",
        "sns.swarmplot(x='gender',y='losingweight', data = df_gen_losingweight, color='red')\n",
        "plt.show()"
      ],
      "execution_count": null,
      "outputs": [
        {
          "output_type": "display_data",
          "data": {
            "image/png": "[encoded data removed]",
            "text/plain": [
              "<Figure size 432x288 with 1 Axes>"
            ]
          },
          "metadata": {
            "tags": [],
            "needs_background": "light"
          }
        }
      ]
    },
    {
      "cell_type": "code",
      "metadata": {
        "id": "3-1wYxBX0HqG"
      },
      "source": [
        "model_2 = ols('losingweight ~ C(gender)', data=df_gen_losingweight).fit()\n",
        "anova_table = sm.stats.anova_lm(model_2, typ=2)"
      ],
      "execution_count": null,
      "outputs": []
    },
    {
      "cell_type": "code",
      "metadata": {
        "colab": {
          "base_uri": "https://localhost:8080/",
          "height": 112
        },
        "id": "hdu2mihj0HqH",
        "outputId": "dbe05986-f986-44e6-c7c9-0ca210218cc2"
      },
      "source": [
        "anova_table"
      ],
      "execution_count": null,
      "outputs": [
        {
          "output_type": "execute_result",
          "data": {
            "text/html": [
              "<div>\n",
              "<style scoped>\n",
              "    .dataframe tbody tr th:only-of-type {\n",
              "        vertical-align: middle;\n",
              "    }\n",
              "\n",
              "    .dataframe tbody tr th {\n",
              "        vertical-align: top;\n",
              "    }\n",
              "\n",
              "    .dataframe thead th {\n",
              "        text-align: right;\n",
              "    }\n",
              "</style>\n",
              "<table border=\"1\" class=\"dataframe\">\n",
              "  <thead>\n",
              "    <tr style=\"text-align: right;\">\n",
              "      <th></th>\n",
              "      <th>sum_sq</th>\n",
              "      <th>df</th>\n",
              "      <th>F</th>\n",
              "      <th>PR(&gt;F)</th>\n",
              "    </tr>\n",
              "  </thead>\n",
              "  <tbody>\n",
              "    <tr>\n",
              "      <th>C(gender)</th>\n",
              "      <td>0.278485</td>\n",
              "      <td>1.0</td>\n",
              "      <td>0.043786</td>\n",
              "      <td>0.834827</td>\n",
              "    </tr>\n",
              "    <tr>\n",
              "      <th>Residual</th>\n",
              "      <td>470.650331</td>\n",
              "      <td>74.0</td>\n",
              "      <td>NaN</td>\n",
              "      <td>NaN</td>\n",
              "    </tr>\n",
              "  </tbody>\n",
              "</table>\n",
              "</div>"
            ],
            "text/plain": [
              "               sum_sq    df         F    PR(>F)\n",
              "C(gender)    0.278485   1.0  0.043786  0.834827\n",
              "Residual   470.650331  74.0       NaN       NaN"
            ]
          },
          "metadata": {
            "tags": []
          },
          "execution_count": 30
        }
      ]
    },
    {
      "cell_type": "code",
      "metadata": {
        "colab": {
          "base_uri": "https://localhost:8080/",
          "height": 81
        },
        "id": "yp5WrFtd0HqH",
        "outputId": "53ac9e29-6842-4d54-a31e-315753b6c33f"
      },
      "source": [
        "p = {}\n",
        "p['f_score'] = anova_table['F'][0]\n",
        "p['p_value'] = anova_table['PR(>F)'][0]\n",
        "results(p)"
      ],
      "execution_count": null,
      "outputs": [
        {
          "output_type": "execute_result",
          "data": {
            "text/html": [
              "<div>\n",
              "<style scoped>\n",
              "    .dataframe tbody tr th:only-of-type {\n",
              "        vertical-align: middle;\n",
              "    }\n",
              "\n",
              "    .dataframe tbody tr th {\n",
              "        vertical-align: top;\n",
              "    }\n",
              "\n",
              "    .dataframe thead th {\n",
              "        text-align: right;\n",
              "    }\n",
              "</style>\n",
              "<table border=\"1\" class=\"dataframe\">\n",
              "  <thead>\n",
              "    <tr style=\"text-align: right;\">\n",
              "      <th></th>\n",
              "      <th>f_score</th>\n",
              "      <th>p_value</th>\n",
              "      <th>KetLuan</th>\n",
              "    </tr>\n",
              "  </thead>\n",
              "  <tbody>\n",
              "    <tr>\n",
              "      <th></th>\n",
              "      <td>0.043786</td>\n",
              "      <td>0.834827</td>\n",
              "      <td>Chấp nhận H0 với mức ý nghĩa 0.05</td>\n",
              "    </tr>\n",
              "  </tbody>\n",
              "</table>\n",
              "</div>"
            ],
            "text/plain": [
              "   f_score   p_value                            KetLuan\n",
              "  0.043786  0.834827  Chấp nhận H0 với mức ý nghĩa 0.05"
            ]
          },
          "metadata": {
            "tags": []
          },
          "execution_count": 31
        }
      ]
    },
    {
      "cell_type": "markdown",
      "metadata": {
        "id": "JBqcWnk00HqH"
      },
      "source": [
        "**Không cần tiến hành kiểm tra hậu nghiệm**"
      ]
    },
    {
      "cell_type": "markdown",
      "metadata": {
        "id": "UeeBh6f50HqI"
      },
      "source": [
        "**Kiểm tra các điều kiện cho kiểm định Anova**"
      ]
    },
    {
      "cell_type": "code",
      "metadata": {
        "colab": {
          "base_uri": "https://localhost:8080/",
          "height": 281
        },
        "id": "jAo5H3Xl0HqI",
        "outputId": "54abb36e-cbcb-4139-e804-5f474b7bf9a0"
      },
      "source": [
        "fig, ax = plt.subplots(1,2)\n",
        "sm.qqplot(model_2.resid,line='s', ax=ax[0])\n",
        "plt.xlabel(\"Theoretical Quantiles\")\n",
        "plt.ylabel(\"Sample Residuals\")\n",
        "\n",
        "plt.hist(model_2.resid, bins='auto', histtype='bar', ec='k')\n",
        "plt.xlabel('Residuals')\n",
        "plt.ylabel('Frequency')\n",
        "plt.show()"
      ],
      "execution_count": null,
      "outputs": [
        {
          "output_type": "display_data",
          "data": {
            "image/png": "[encoded data removed]",
            "text/plain": [
              "<Figure size 432x288 with 2 Axes>"
            ]
          },
          "metadata": {
            "tags": [],
            "needs_background": "light"
          }
        }
      ]
    },
    {
      "cell_type": "code",
      "metadata": {
        "id": "LnOzqGq00HqJ"
      },
      "source": [
        "p_v = stats.shapiro(model_2.resid)[1]"
      ],
      "execution_count": null,
      "outputs": []
    },
    {
      "cell_type": "code",
      "metadata": {
        "id": "aITSSEM10HqJ",
        "outputId": "0d0e1cc4-58ba-4421-8b32-06d8125d93d7"
      },
      "source": [
        "print('''Phát biểu giả thiết thống kê:\n",
        "    H0: Mẫu tuân theo phân phối chuẩn\n",
        "    H1: Mẫu khống tuân theo phân phối chuẩn''')\n",
        "if p_v > 0.05:\n",
        "    print(f'Không có bằng chứng thống kê để bác bỏ giả thiết H0. Điều này ngụ ý Mẫu tuân theo phân phối chuẩn')\n",
        "else:\n",
        "    print(f'Có bằng chứng thống kê để bác bỏ giả thiết H0. Điều này ngụ ý Mẫu không tuân theo phân phối chuẩn (H1)')"
      ],
      "execution_count": null,
      "outputs": [
        {
          "output_type": "stream",
          "text": [
            "Phát biểu giả thiết thống kê:\n",
            "    H0: Mẫu tuân theo phân phối chuẩn\n",
            "    H1: Mẫu khống tuân theo phân phối chuẩn\n",
            "Không có bằng chứng thống kê để bác bỏ giả thiết H0. Điều này ngụ ý Mẫu tuân theo phân phối chuẩn\n"
          ],
          "name": "stdout"
        }
      ]
    }
  ]
}